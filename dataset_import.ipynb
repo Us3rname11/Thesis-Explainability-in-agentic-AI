{
 "cells": [
  {
   "cell_type": "code",
   "execution_count": 3,
   "metadata": {},
   "outputs": [
    {
     "name": "stdout",
     "output_type": "stream",
     "text": [
      "Loading 'dailylifeapis' from 'microsoft/Taskbench'...\n",
      "  - Loaded 4318 records.\n",
      "Filtering records where 'n_tools' is 1...\n",
      "  - Found 1257 matching records.\n",
      "Removing specified columns...\n",
      "  - Columns remaining: ['id', 'n_tools', 'sampled_nodes', 'instruction', 'tool_steps', 'tool_nodes']\n",
      "Converting, parsing, and cleaning data types...\n",
      "Saving the final, clean data to 'data/taskbench_processed_parsed_v2.json'...\n",
      "\n",
      "Done! Your clean data is ready in 'data/taskbench_processed_parsed_v2.json'.\n"
     ]
    }
   ],
   "source": [
    "import json\n",
    "from datasets import load_dataset\n",
    "\n",
    "# --- 1. Configuration ---\n",
    "# All the settings are at the top for easy changes.\n",
    "\n",
    "DATASET_NAME = \"microsoft/Taskbench\"\n",
    "SUBSET_NAME = \"dailylifeapis\"\n",
    "SPLIT_NAME = \"test\"\n",
    "\n",
    "# The final, clean file will be saved here.\n",
    "OUTPUT_FILENAME = \"data/taskbench_processed_parsed_v2.json\"\n",
    "\n",
    "# List of columns to remove from the dataset.\n",
    "COLUMNS_TO_REMOVE = [\"seed\", \"type\", \"sampled_links\", \"tool_links\"]\n",
    "\n",
    "# List of columns that contain \"JSON within a string\" and need to be parsed.\n",
    "COLUMNS_TO_PARSE = [\"sampled_nodes\", \"tool_steps\", \"tool_nodes\"]\n",
    "\n",
    "\n",
    "# --- 2. Main Processing ---\n",
    "\n",
    "def process_dataset():\n",
    "    \"\"\"\n",
    "    Loads, filters, cleans, and saves the Hugging Face dataset.\n",
    "    \"\"\"\n",
    "    print(f\"Loading '{SUBSET_NAME}' from '{DATASET_NAME}'...\")\n",
    "    dataset = load_dataset(DATASET_NAME, name=SUBSET_NAME, split=SPLIT_NAME)\n",
    "    print(f\"  - Loaded {len(dataset)} records.\")\n",
    "\n",
    "    print(\"Filtering records where 'n_tools' is 1...\")\n",
    "    filtered_dataset = dataset.filter(lambda example: example['n_tools'] == 1)\n",
    "    print(f\"  - Found {len(filtered_dataset)} matching records.\")\n",
    "\n",
    "    print(\"Removing specified columns...\")\n",
    "    cleaned_dataset = filtered_dataset.remove_columns(COLUMNS_TO_REMOVE)\n",
    "    print(f\"  - Columns remaining: {cleaned_dataset.column_names}\")\n",
    "\n",
    "    print(\"Converting, parsing, and cleaning data types...\")\n",
    "    data_list = [row for row in cleaned_dataset]\n",
    "\n",
    "    for record in data_list:\n",
    "        # A. Parse the nested JSON strings into Python objects.\n",
    "        for key in COLUMNS_TO_PARSE:\n",
    "            if key in record and isinstance(record[key], str):\n",
    "                try:\n",
    "                    record[key] = json.loads(record[key])\n",
    "                except json.JSONDecodeError:\n",
    "                    print(f\"  - Warning: Could not parse key '{key}' in record ID {record.get('id')}.\")\n",
    "        \n",
    "        # B. Convert the 'id' field from a string to an integer.\n",
    "        if 'id' in record and isinstance(record['id'], str):\n",
    "            try:\n",
    "                record['id'] = int(record['id'])\n",
    "            except ValueError:\n",
    "                print(f\"  - Warning: Could not convert id '{record['id']}' to an integer.\")\n",
    "\n",
    "    print(f\"Saving the final, clean data to '{OUTPUT_FILENAME}'...\")\n",
    "    with open(OUTPUT_FILENAME, 'w', encoding='utf-8') as f:\n",
    "        json.dump(data_list, f, indent=4)\n",
    "\n",
    "    print(f\"\\nDone! Your clean data is ready in '{OUTPUT_FILENAME}'.\")\n",
    "\n",
    "\n",
    "# --- 3. Run the script ---\n",
    "if __name__ == \"__main__\":\n",
    "    process_dataset()"
   ]
  },
  {
   "cell_type": "code",
   "execution_count": 4,
   "metadata": {},
   "outputs": [
    {
     "name": "stdout",
     "output_type": "stream",
     "text": [
      "task: play_movie_by_title\n",
      "prompt: I've been hearing a lot about this movie called 'Inception', could you help me watch it?\n"
     ]
    }
   ],
   "source": [
    "import json\n",
    "\n",
    "file_path = OUTPUT_FILENAME\n",
    "\n",
    "with open(file_path, 'r', encoding='utf-8') as f:\n",
    "    data = json.load(f)\n",
    "\n",
    "print(\"task: \" + data[0][\"sampled_nodes\"][0][\"task\"])\n",
    "print(\"prompt: \" + data[0][\"instruction\"])"
   ]
  }
 ],
 "metadata": {
  "kernelspec": {
   "display_name": "py312",
   "language": "python",
   "name": "python3"
  },
  "language_info": {
   "codemirror_mode": {
    "name": "ipython",
    "version": 3
   },
   "file_extension": ".py",
   "mimetype": "text/x-python",
   "name": "python",
   "nbconvert_exporter": "python",
   "pygments_lexer": "ipython3",
   "version": "3.12.10 (v3.12.10:0cc81280367, Apr  8 2025, 08:46:59) [Clang 13.0.0 (clang-1300.0.29.30)]"
  },
  "orig_nbformat": 4,
  "vscode": {
   "interpreter": {
    "hash": "6bfb36e1809ebaabb37e5aa29ecba9279008a69c1743045940bd5d510f792dfd"
   }
  }
 },
 "nbformat": 4,
 "nbformat_minor": 2
}
