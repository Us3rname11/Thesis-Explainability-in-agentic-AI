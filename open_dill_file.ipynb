{
 "cells": [
  {
   "cell_type": "code",
   "execution_count": null,
   "metadata": {},
   "outputs": [],
   "source": [
    "import dill\n",
    "dir = \"\"\n",
    "with open(dir, 'rb') as file:\n",
    "    # Load the data from the file\n",
    "    loaded_data = dill.load(file)\n",
    "loaded_data"
   ]
  }
 ],
 "metadata": {
  "kernelspec": {
   "display_name": "py312",
   "language": "python",
   "name": "python3"
  },
  "language_info": {
   "name": "python",
   "version": "3.12.10 (v3.12.10:0cc81280367, Apr  8 2025, 08:46:59) [Clang 13.0.0 (clang-1300.0.29.30)]"
  },
  "orig_nbformat": 4,
  "vscode": {
   "interpreter": {
    "hash": "6bfb36e1809ebaabb37e5aa29ecba9279008a69c1743045940bd5d510f792dfd"
   }
  }
 },
 "nbformat": 4,
 "nbformat_minor": 2
}
